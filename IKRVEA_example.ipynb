{
 "cells": [
  {
   "cell_type": "code",
   "execution_count": 1,
   "source": [
    "from desdeo_emo.EAs.RVEA import RVEA\n",
    "from desdeo_problem.problem.Variable import variable_builder\n",
    "from desdeo_problem.testproblems.TestProblems import test_problem_builder\n",
    "from desdeo_problem.surrogatemodels.SurrogateModels import GaussianProcessRegressor\n",
    "from desdeo_problem import ExperimentalProblem\n",
    "from desdeo_tools.utilities.model_management import ikrvea_mm\n",
    "import sys \n",
    "sys.path.append(\"NumPy_path\") \n",
    "import numpy as np\n",
    "import pandas as pd\n",
    "\n",
    "from sklearn.gaussian_process.kernels import Matern\n",
    "from pymoo.factory import get_problem, get_reference_directions\n",
    "import copy"
   ],
   "outputs": [],
   "metadata": {}
  },
  {
   "cell_type": "markdown",
   "source": [
    "# we define the problem to be solved\n",
    "\n",
    "In this example we have used the pymoo package to define dtlz2 problem with 3 objectives. Please not for now we cannot use the test_problem_maker class from DESDEO to use dtlz problems for online surrogate assisted methods and we need to define them manually."
   ],
   "metadata": {}
  },
  {
   "cell_type": "code",
   "execution_count": 2,
   "source": [
    "def obj_function1(x):\n",
    "\n",
    "    out = {\n",
    "    \"F\": \"\",\n",
    "    \"G\": \"\",\n",
    "    }\n",
    "    problem = get_problem(\"dtlz2\", 12)\n",
    "    problem._evaluate(x, out)\n",
    "    return out['F'][:,0]\n",
    "def obj_function2(x):\n",
    "\n",
    "    out = {\n",
    "    \"F\": \"\",\n",
    "    \"G\": \"\",\n",
    "    }\n",
    "    problem = get_problem(\"dtlz2\", 12)\n",
    "    problem._evaluate(x, out)\n",
    "    return out['F'][:,1]\n",
    "def obj_function3(x):\n",
    "\n",
    "    out = {\n",
    "    \"F\": \"\",\n",
    "    \"G\": \"\",\n",
    "    }\n",
    "    problem = get_problem(\"dtlz2\", 12)\n",
    "    problem._evaluate(x, out)\n",
    "    return out['F'][:,2]"
   ],
   "outputs": [],
   "metadata": {}
  },
  {
   "cell_type": "markdown",
   "source": [
    "# Setting the parameters"
   ],
   "metadata": {}
  },
  {
   "cell_type": "code",
   "execution_count": 3,
   "source": [
    "number_of_obj = 3\n",
    "number_of_var = number_of_obj +4\n",
    "\n",
    "n_show = 5\n",
    "archive = None\n",
    "m_archive = None\n",
    "refpoint = np.asarray([0.2,0.5,0.9])\n",
    "n_obj = number_of_obj # number of objectives\n",
    "n_var = number_of_var # number of variables\n",
    "var_names = [\"x\" + str(i + 1) for i in range(n_var)]\n",
    "obj_names = [\"f\" + str(i + 1) for i in range(n_obj)]\n",
    "problem = test_problem_builder(\n",
    "                name='DTLZ2', n_of_objectives=n_obj, n_of_variables=n_var\n",
    "            )"
   ],
   "outputs": [],
   "metadata": {}
  },
  {
   "cell_type": "markdown",
   "source": [
    "Here we define the evolver and create the archive in pandas data frame type (datapd). Then we define the problem object.\n",
    "\n",
    "## note:\n",
    "currently we are using the ExperimentalProblem class. In the future updates of DESDEO this will change."
   ],
   "metadata": {}
  },
  {
   "cell_type": "code",
   "execution_count": 4,
   "source": [
    "evolver = RVEA(\n",
    "            problem, interact=True, n_iterations=1, n_gen_per_iter = 100)\n",
    "    \n",
    "    \n",
    "initial_pop = copy.deepcopy(evolver.population.individuals)\n",
    "initial_fitness = copy.deepcopy(evolver.population.fitness)\n",
    "data = np.hstack((initial_pop, initial_fitness))\n",
    "datapd = pd.DataFrame(data=data, columns=var_names+obj_names)\n",
    "varsl = variable_builder(var_names,\n",
    "        initial_values=[0] * n_var ,\n",
    "        lower_bounds=[0.0] * n_var,\n",
    "        upper_bounds=[1.0] * n_var\n",
    "        )\n",
    "problem = ExperimentalProblem(data = datapd, objective_names=obj_names, variable_names=var_names,\\\n",
    "     evaluators = [obj_function1, obj_function2, obj_function3])\n"
   ],
   "outputs": [],
   "metadata": {}
  },
  {
   "cell_type": "markdown",
   "source": [
    "## Training the surrogate models"
   ],
   "metadata": {}
  },
  {
   "cell_type": "code",
   "execution_count": 5,
   "source": [
    "problem.train(models=GaussianProcessRegressor, model_parameters={'kernel': Matern(nu=1.5)})\n"
   ],
   "outputs": [],
   "metadata": {}
  },
  {
   "cell_type": "markdown",
   "source": [
    "Defining the evolver with the surrogate models and some adjustments for interactive KRVEA.\n",
    "\n",
    "The parameter u defines the number of solutions that need to be selected by the model management to evluate the original functions with them. "
   ],
   "metadata": {}
  },
  {
   "cell_type": "code",
   "execution_count": 6,
   "source": [
    "evolver = RVEA(\n",
    "            problem, interact=True, n_iterations=1, n_gen_per_iter = 100, use_surrogates= True)\n",
    "\n",
    "pref, plot2 = copy.deepcopy(evolver.requests())\n",
    "pref[2].response = copy.deepcopy(pd.DataFrame([refpoint],\\\n",
    "     columns=pref[2].content['dimensions_data'].columns))\n",
    "\n",
    "u=10 #number of solutions per updates\n",
    "i = 0"
   ],
   "outputs": [],
   "metadata": {}
  },
  {
   "cell_type": "code",
   "execution_count": 7,
   "source": [
    "pref, plot2 = copy.deepcopy(evolver.requests())\n",
    "pref[2].response = copy.deepcopy(pd.DataFrame([refpoint],\\\n",
    "    columns=pref[2].content['dimensions_data'].columns))\n",
    "plot= evolver.iterate(pref[2])   \n",
    "print(problem.evaluate(np.asarray([0.5,0.5,0.5,0.5,0.5,0.5,0.5]), use_surrogate= True))\n",
    "problem = ikrvea_mm(refpoint, evolver, problem, u )\n",
    "problem.train(models=GaussianProcessRegressor, model_parameters={'kernel': Matern(nu=1.5)})\n",
    "print(problem.evaluate(np.asarray([0.5,0.5,0.5,0.5,0.5,0.5,0.5]), use_surrogate= True))\n"
   ],
   "outputs": [
    {
     "output_type": "stream",
     "name": "stdout",
     "text": [
      "Evaluation Results Object \n",
      "Objective values are: \n",
      "[[0.51018956 0.49775215 0.6915514 ]]\n",
      "Constraint violation values are: \n",
      "None\n",
      "Fitness values are: \n",
      "[[0.51018956 0.49775215 0.6915514 ]]\n",
      "Uncertainity values are: \n",
      "[[0.04847805 0.0537141  0.04608517]]\n",
      "\n",
      "Evaluation Results Object \n",
      "Objective values are: \n",
      "[[0.50392414 0.49098729 0.7074659 ]]\n",
      "Constraint violation values are: \n",
      "None\n",
      "Fitness values are: \n",
      "[[0.50392414 0.49098729 0.7074659 ]]\n",
      "Uncertainity values are: \n",
      "[[0.02331915 0.02579351 0.02206174]]\n",
      "\n"
     ]
    }
   ],
   "metadata": {}
  },
  {
   "cell_type": "code",
   "execution_count": 8,
   "source": [
    "problem.archive[-u:]"
   ],
   "outputs": [
    {
     "output_type": "execute_result",
     "data": {
      "text/plain": [
       "           x1        x2        x3        x4        x5        x6        x7  \\\n",
       "105  0.593056  0.570802  0.331713  0.531954  0.543793  0.550162  0.502528   \n",
       "106  0.660095  0.580258  0.489166  0.546064  0.531300  0.455505  0.573335   \n",
       "107  0.547868  0.633743  0.456410  0.532923  0.494344  0.583192  0.317884   \n",
       "108  0.576021  0.663628  0.525693  0.442433  0.520535  0.500153  0.477523   \n",
       "109  0.636347  0.701613  0.507931  0.456502  0.516869  0.445549  0.571506   \n",
       "110  0.605544  0.815051  0.443791  0.470313  0.495888  0.630895  0.553163   \n",
       "111  0.570202  0.617075  0.548282  0.565190  0.496961  0.322053  0.658755   \n",
       "112  0.543471  0.632756  0.457067  0.533225  0.605036  0.435527  0.317804   \n",
       "113  0.513355  0.683569  0.439726  0.565264  0.507352  0.678969  0.523172   \n",
       "114  0.693316  0.748568  0.471672  0.520916  0.602744  0.551454  0.560437   \n",
       "\n",
       "           f1        f2        f3  \n",
       "105  0.384999  0.481799  0.829669  \n",
       "106  0.315051  0.406501  0.869922  \n",
       "107  0.370039  0.570613  0.790909  \n",
       "108  0.312994  0.536194  0.790162  \n",
       "109  0.246754  0.487331  0.849919  \n",
       "110  0.170340  0.569746  0.833658  \n",
       "111  0.376114  0.548003  0.830166  \n",
       "112  0.376843  0.579137  0.792394  \n",
       "113  0.343395  0.633015  0.751026  \n",
       "114  0.181493  0.435391  0.902228  "
      ],
      "text/html": [
       "<div>\n",
       "<style scoped>\n",
       "    .dataframe tbody tr th:only-of-type {\n",
       "        vertical-align: middle;\n",
       "    }\n",
       "\n",
       "    .dataframe tbody tr th {\n",
       "        vertical-align: top;\n",
       "    }\n",
       "\n",
       "    .dataframe thead th {\n",
       "        text-align: right;\n",
       "    }\n",
       "</style>\n",
       "<table border=\"1\" class=\"dataframe\">\n",
       "  <thead>\n",
       "    <tr style=\"text-align: right;\">\n",
       "      <th></th>\n",
       "      <th>x1</th>\n",
       "      <th>x2</th>\n",
       "      <th>x3</th>\n",
       "      <th>x4</th>\n",
       "      <th>x5</th>\n",
       "      <th>x6</th>\n",
       "      <th>x7</th>\n",
       "      <th>f1</th>\n",
       "      <th>f2</th>\n",
       "      <th>f3</th>\n",
       "    </tr>\n",
       "  </thead>\n",
       "  <tbody>\n",
       "    <tr>\n",
       "      <th>105</th>\n",
       "      <td>0.593056</td>\n",
       "      <td>0.570802</td>\n",
       "      <td>0.331713</td>\n",
       "      <td>0.531954</td>\n",
       "      <td>0.543793</td>\n",
       "      <td>0.550162</td>\n",
       "      <td>0.502528</td>\n",
       "      <td>0.384999</td>\n",
       "      <td>0.481799</td>\n",
       "      <td>0.829669</td>\n",
       "    </tr>\n",
       "    <tr>\n",
       "      <th>106</th>\n",
       "      <td>0.660095</td>\n",
       "      <td>0.580258</td>\n",
       "      <td>0.489166</td>\n",
       "      <td>0.546064</td>\n",
       "      <td>0.531300</td>\n",
       "      <td>0.455505</td>\n",
       "      <td>0.573335</td>\n",
       "      <td>0.315051</td>\n",
       "      <td>0.406501</td>\n",
       "      <td>0.869922</td>\n",
       "    </tr>\n",
       "    <tr>\n",
       "      <th>107</th>\n",
       "      <td>0.547868</td>\n",
       "      <td>0.633743</td>\n",
       "      <td>0.456410</td>\n",
       "      <td>0.532923</td>\n",
       "      <td>0.494344</td>\n",
       "      <td>0.583192</td>\n",
       "      <td>0.317884</td>\n",
       "      <td>0.370039</td>\n",
       "      <td>0.570613</td>\n",
       "      <td>0.790909</td>\n",
       "    </tr>\n",
       "    <tr>\n",
       "      <th>108</th>\n",
       "      <td>0.576021</td>\n",
       "      <td>0.663628</td>\n",
       "      <td>0.525693</td>\n",
       "      <td>0.442433</td>\n",
       "      <td>0.520535</td>\n",
       "      <td>0.500153</td>\n",
       "      <td>0.477523</td>\n",
       "      <td>0.312994</td>\n",
       "      <td>0.536194</td>\n",
       "      <td>0.790162</td>\n",
       "    </tr>\n",
       "    <tr>\n",
       "      <th>109</th>\n",
       "      <td>0.636347</td>\n",
       "      <td>0.701613</td>\n",
       "      <td>0.507931</td>\n",
       "      <td>0.456502</td>\n",
       "      <td>0.516869</td>\n",
       "      <td>0.445549</td>\n",
       "      <td>0.571506</td>\n",
       "      <td>0.246754</td>\n",
       "      <td>0.487331</td>\n",
       "      <td>0.849919</td>\n",
       "    </tr>\n",
       "    <tr>\n",
       "      <th>110</th>\n",
       "      <td>0.605544</td>\n",
       "      <td>0.815051</td>\n",
       "      <td>0.443791</td>\n",
       "      <td>0.470313</td>\n",
       "      <td>0.495888</td>\n",
       "      <td>0.630895</td>\n",
       "      <td>0.553163</td>\n",
       "      <td>0.170340</td>\n",
       "      <td>0.569746</td>\n",
       "      <td>0.833658</td>\n",
       "    </tr>\n",
       "    <tr>\n",
       "      <th>111</th>\n",
       "      <td>0.570202</td>\n",
       "      <td>0.617075</td>\n",
       "      <td>0.548282</td>\n",
       "      <td>0.565190</td>\n",
       "      <td>0.496961</td>\n",
       "      <td>0.322053</td>\n",
       "      <td>0.658755</td>\n",
       "      <td>0.376114</td>\n",
       "      <td>0.548003</td>\n",
       "      <td>0.830166</td>\n",
       "    </tr>\n",
       "    <tr>\n",
       "      <th>112</th>\n",
       "      <td>0.543471</td>\n",
       "      <td>0.632756</td>\n",
       "      <td>0.457067</td>\n",
       "      <td>0.533225</td>\n",
       "      <td>0.605036</td>\n",
       "      <td>0.435527</td>\n",
       "      <td>0.317804</td>\n",
       "      <td>0.376843</td>\n",
       "      <td>0.579137</td>\n",
       "      <td>0.792394</td>\n",
       "    </tr>\n",
       "    <tr>\n",
       "      <th>113</th>\n",
       "      <td>0.513355</td>\n",
       "      <td>0.683569</td>\n",
       "      <td>0.439726</td>\n",
       "      <td>0.565264</td>\n",
       "      <td>0.507352</td>\n",
       "      <td>0.678969</td>\n",
       "      <td>0.523172</td>\n",
       "      <td>0.343395</td>\n",
       "      <td>0.633015</td>\n",
       "      <td>0.751026</td>\n",
       "    </tr>\n",
       "    <tr>\n",
       "      <th>114</th>\n",
       "      <td>0.693316</td>\n",
       "      <td>0.748568</td>\n",
       "      <td>0.471672</td>\n",
       "      <td>0.520916</td>\n",
       "      <td>0.602744</td>\n",
       "      <td>0.551454</td>\n",
       "      <td>0.560437</td>\n",
       "      <td>0.181493</td>\n",
       "      <td>0.435391</td>\n",
       "      <td>0.902228</td>\n",
       "    </tr>\n",
       "  </tbody>\n",
       "</table>\n",
       "</div>"
      ]
     },
     "metadata": {},
     "execution_count": 8
    }
   ],
   "metadata": {}
  },
  {
   "cell_type": "code",
   "execution_count": 9,
   "source": [
    "refpoint"
   ],
   "outputs": [
    {
     "output_type": "execute_result",
     "data": {
      "text/plain": [
       "array([0.2, 0.5, 0.9])"
      ]
     },
     "metadata": {},
     "execution_count": 9
    }
   ],
   "metadata": {}
  },
  {
   "cell_type": "markdown",
   "source": [
    "# Visualization\n",
    "Here we visualize the last u solutions that interactive K-RVEA finds after each iteration"
   ],
   "metadata": {}
  },
  {
   "cell_type": "code",
   "execution_count": 10,
   "source": [
    "import plotly.graph_objs as go\n",
    "from pymoo.factory import get_problem, get_reference_directions, get_visualization\n",
    "#the next three lines are to get the true pareto front\n",
    "p = get_problem(\"dtlz2\", 12)\n",
    "ref_dirs = get_reference_directions(\"das-dennis\", 3, n_partitions=12)\n",
    "pf = p.pareto_front(ref_dirs)\n",
    "\n",
    "df = problem.archive[-u:]\n",
    "x = df[\"f1\"].to_numpy()\n",
    "y = df[\"f2\"].to_numpy()\n",
    "z = df[\"f3\"].to_numpy()\n",
    "\n",
    "trace1 = go.Scatter3d(x=x, y=y, z=z, mode=\"markers\",)\n",
    "trace2 = go.Scatter3d(x=[refpoint[0]], y=[refpoint[1]], z=[refpoint[2]], mode=\"markers\")\n",
    "trace3 = go.Mesh3d(x=pf[:,0], y=pf[:,1], z=pf[:,2])\n",
    "fig = go.Figure(data = [trace1, trace2, trace3])\n",
    "fig.show()"
   ],
   "outputs": [
    {
     "output_type": "display_data",
     "data": {
      "application/vnd.plotly.v1+json": {
       "config": {
        "plotlyServerURL": "https://plot.ly"
       },
       "data": [
        {
         "mode": "markers",
         "type": "scatter3d",
         "x": [
          0.384998590036195,
          0.31505129709848384,
          0.37003868452280037,
          0.3129941300856401,
          0.24675400605175085,
          0.17033992323246042,
          0.3761139936167746,
          0.37684255538323524,
          0.34339535045682135,
          0.1814933026079101
         ],
         "y": [
          0.4817988495975993,
          0.4065011907090175,
          0.5706129695887274,
          0.5361942120054606,
          0.48733059372763665,
          0.5697458171886,
          0.5480026130067173,
          0.5791365221877163,
          0.6330145687108677,
          0.43539073429654357
         ],
         "z": [
          0.8296692753482665,
          0.869922416008889,
          0.7909086908503169,
          0.7901623002741637,
          0.849919220554199,
          0.8336579700224839,
          0.8301658270758625,
          0.7923944523528114,
          0.7510257204418191,
          0.9022280901054524
         ]
        },
        {
         "mode": "markers",
         "type": "scatter3d",
         "x": [
          0.2
         ],
         "y": [
          0.5
         ],
         "z": [
          0.9
         ]
        },
        {
         "type": "mesh3d",
         "x": [
          0,
          0,
          0,
          0,
          0,
          0,
          0,
          0,
          0,
          0,
          0,
          0,
          0,
          0.09053574604251853,
          0.09901475429766741,
          0.10783277320343841,
          0.11624763874381927,
          0.12309149097933271,
          0.1270001270001905,
          0.1270001270001905,
          0.12309149097933271,
          0.11624763874381927,
          0.10783277320343841,
          0.09901475429766741,
          0.09053574604251853,
          0.19611613513818402,
          0.21566554640687682,
          0.2357022603955158,
          0.25400025400038095,
          0.2672612419124244,
          0.2721655269759087,
          0.2672612419124244,
          0.25400025400038095,
          0.2357022603955158,
          0.21566554640687682,
          0.19611613513818402,
          0.31622776601683794,
          0.34874291623145787,
          0.38100038100057143,
          0.4082482904638631,
          0.4242640687119285,
          0.4242640687119285,
          0.4082482904638631,
          0.38100038100057143,
          0.34874291623145787,
          0.31622776601683794,
          0.4472135954999579,
          0.49236596391733084,
          0.5345224838248488,
          0.565685424949238,
          0.5773502691896257,
          0.565685424949238,
          0.5345224838248488,
          0.49236596391733084,
          0.4472135954999579,
          0.5812381937190965,
          0.6350006350009526,
          0.6804138174397718,
          0.7071067811865476,
          0.7071067811865476,
          0.6804138174397717,
          0.6350006350009526,
          0.5812381937190965,
          0.7071067811865475,
          0.7620007620011431,
          0.8017837257372732,
          0.8164965809277261,
          0.8017837257372732,
          0.7620007620011431,
          0.7071067811865475,
          0.813733471206735,
          0.8616404368553291,
          0.8890008890013334,
          0.8890008890013334,
          0.8616404368553291,
          0.813733471206735,
          0.8944271909999159,
          0.9299811099505542,
          0.9428090415820632,
          0.9299811099505542,
          0.8944271909999159,
          0.9486832980505138,
          0.9704949588309457,
          0.9704949588309457,
          0.9486832980505138,
          0.9805806756909202,
          0.9901475429766743,
          0.9805806756909202,
          0.995893206467704,
          0.995893206467704,
          1
         ],
         "y": [
          0,
          0.09053574604251853,
          0.19611613513818402,
          0.31622776601683794,
          0.4472135954999579,
          0.5812381937190965,
          0.7071067811865475,
          0.813733471206735,
          0.8944271909999159,
          0.9486832980505138,
          0.9805806756909202,
          0.995893206467704,
          1,
          0,
          0.09901475429766741,
          0.21566554640687682,
          0.34874291623145787,
          0.49236596391733084,
          0.6350006350009526,
          0.7620007620011431,
          0.8616404368553291,
          0.9299811099505542,
          0.9704949588309457,
          0.9901475429766743,
          0.995893206467704,
          0,
          0.10783277320343841,
          0.2357022603955158,
          0.38100038100057143,
          0.5345224838248488,
          0.6804138174397718,
          0.8017837257372732,
          0.8890008890013334,
          0.9428090415820632,
          0.9704949588309457,
          0.9805806756909202,
          0,
          0.11624763874381927,
          0.25400025400038095,
          0.4082482904638631,
          0.565685424949238,
          0.7071067811865476,
          0.8164965809277261,
          0.8890008890013334,
          0.9299811099505542,
          0.9486832980505138,
          0,
          0.12309149097933271,
          0.2672612419124244,
          0.4242640687119285,
          0.5773502691896257,
          0.7071067811865476,
          0.8017837257372732,
          0.8616404368553291,
          0.8944271909999159,
          0,
          0.1270001270001905,
          0.2721655269759087,
          0.4242640687119285,
          0.565685424949238,
          0.6804138174397717,
          0.7620007620011431,
          0.813733471206735,
          0,
          0.1270001270001905,
          0.2672612419124244,
          0.4082482904638631,
          0.5345224838248488,
          0.6350006350009526,
          0.7071067811865475,
          0,
          0.12309149097933271,
          0.25400025400038095,
          0.38100038100057143,
          0.49236596391733084,
          0.5812381937190965,
          0,
          0.11624763874381927,
          0.2357022603955158,
          0.34874291623145787,
          0.4472135954999579,
          0,
          0.10783277320343841,
          0.21566554640687682,
          0.31622776601683794,
          0,
          0.09901475429766741,
          0.19611613513818402,
          0,
          0.09053574604251853,
          0
         ],
         "z": [
          1,
          0.995893206467704,
          0.9805806756909202,
          0.9486832980505138,
          0.8944271909999159,
          0.813733471206735,
          0.7071067811865475,
          0.5812381937190965,
          0.4472135954999579,
          0.31622776601683794,
          0.19611613513818402,
          0.09053574604251853,
          0,
          0.995893206467704,
          0.9901475429766743,
          0.9704949588309457,
          0.9299811099505542,
          0.8616404368553291,
          0.7620007620011431,
          0.6350006350009526,
          0.49236596391733084,
          0.34874291623145787,
          0.21566554640687682,
          0.09901475429766741,
          0,
          0.9805806756909202,
          0.9704949588309457,
          0.9428090415820632,
          0.8890008890013334,
          0.8017837257372732,
          0.6804138174397718,
          0.5345224838248488,
          0.38100038100057143,
          0.2357022603955158,
          0.10783277320343841,
          0,
          0.9486832980505138,
          0.9299811099505542,
          0.8890008890013334,
          0.8164965809277261,
          0.7071067811865476,
          0.565685424949238,
          0.4082482904638631,
          0.25400025400038095,
          0.11624763874381927,
          0,
          0.8944271909999159,
          0.8616404368553291,
          0.8017837257372732,
          0.7071067811865476,
          0.5773502691896257,
          0.4242640687119285,
          0.2672612419124244,
          0.12309149097933271,
          0,
          0.813733471206735,
          0.7620007620011431,
          0.6804138174397718,
          0.565685424949238,
          0.4242640687119285,
          0.2721655269759086,
          0.1270001270001905,
          0,
          0.7071067811865475,
          0.6350006350009526,
          0.5345224838248488,
          0.4082482904638631,
          0.2672612419124244,
          0.1270001270001905,
          0,
          0.5812381937190965,
          0.49236596391733084,
          0.38100038100057143,
          0.25400025400038095,
          0.12309149097933271,
          0,
          0.4472135954999579,
          0.34874291623145787,
          0.2357022603955158,
          0.11624763874381927,
          0,
          0.31622776601683794,
          0.21566554640687682,
          0.10783277320343841,
          0,
          0.19611613513818402,
          0.09901475429766741,
          0,
          0.09053574604251853,
          0,
          0
         ]
        }
       ],
       "layout": {
        "template": {
         "data": {
          "bar": [
           {
            "error_x": {
             "color": "#2a3f5f"
            },
            "error_y": {
             "color": "#2a3f5f"
            },
            "marker": {
             "line": {
              "color": "#E5ECF6",
              "width": 0.5
             }
            },
            "type": "bar"
           }
          ],
          "barpolar": [
           {
            "marker": {
             "line": {
              "color": "#E5ECF6",
              "width": 0.5
             }
            },
            "type": "barpolar"
           }
          ],
          "carpet": [
           {
            "aaxis": {
             "endlinecolor": "#2a3f5f",
             "gridcolor": "white",
             "linecolor": "white",
             "minorgridcolor": "white",
             "startlinecolor": "#2a3f5f"
            },
            "baxis": {
             "endlinecolor": "#2a3f5f",
             "gridcolor": "white",
             "linecolor": "white",
             "minorgridcolor": "white",
             "startlinecolor": "#2a3f5f"
            },
            "type": "carpet"
           }
          ],
          "choropleth": [
           {
            "colorbar": {
             "outlinewidth": 0,
             "ticks": ""
            },
            "type": "choropleth"
           }
          ],
          "contour": [
           {
            "colorbar": {
             "outlinewidth": 0,
             "ticks": ""
            },
            "colorscale": [
             [
              0,
              "#0d0887"
             ],
             [
              0.1111111111111111,
              "#46039f"
             ],
             [
              0.2222222222222222,
              "#7201a8"
             ],
             [
              0.3333333333333333,
              "#9c179e"
             ],
             [
              0.4444444444444444,
              "#bd3786"
             ],
             [
              0.5555555555555556,
              "#d8576b"
             ],
             [
              0.6666666666666666,
              "#ed7953"
             ],
             [
              0.7777777777777778,
              "#fb9f3a"
             ],
             [
              0.8888888888888888,
              "#fdca26"
             ],
             [
              1,
              "#f0f921"
             ]
            ],
            "type": "contour"
           }
          ],
          "contourcarpet": [
           {
            "colorbar": {
             "outlinewidth": 0,
             "ticks": ""
            },
            "type": "contourcarpet"
           }
          ],
          "heatmap": [
           {
            "colorbar": {
             "outlinewidth": 0,
             "ticks": ""
            },
            "colorscale": [
             [
              0,
              "#0d0887"
             ],
             [
              0.1111111111111111,
              "#46039f"
             ],
             [
              0.2222222222222222,
              "#7201a8"
             ],
             [
              0.3333333333333333,
              "#9c179e"
             ],
             [
              0.4444444444444444,
              "#bd3786"
             ],
             [
              0.5555555555555556,
              "#d8576b"
             ],
             [
              0.6666666666666666,
              "#ed7953"
             ],
             [
              0.7777777777777778,
              "#fb9f3a"
             ],
             [
              0.8888888888888888,
              "#fdca26"
             ],
             [
              1,
              "#f0f921"
             ]
            ],
            "type": "heatmap"
           }
          ],
          "heatmapgl": [
           {
            "colorbar": {
             "outlinewidth": 0,
             "ticks": ""
            },
            "colorscale": [
             [
              0,
              "#0d0887"
             ],
             [
              0.1111111111111111,
              "#46039f"
             ],
             [
              0.2222222222222222,
              "#7201a8"
             ],
             [
              0.3333333333333333,
              "#9c179e"
             ],
             [
              0.4444444444444444,
              "#bd3786"
             ],
             [
              0.5555555555555556,
              "#d8576b"
             ],
             [
              0.6666666666666666,
              "#ed7953"
             ],
             [
              0.7777777777777778,
              "#fb9f3a"
             ],
             [
              0.8888888888888888,
              "#fdca26"
             ],
             [
              1,
              "#f0f921"
             ]
            ],
            "type": "heatmapgl"
           }
          ],
          "histogram": [
           {
            "marker": {
             "colorbar": {
              "outlinewidth": 0,
              "ticks": ""
             }
            },
            "type": "histogram"
           }
          ],
          "histogram2d": [
           {
            "colorbar": {
             "outlinewidth": 0,
             "ticks": ""
            },
            "colorscale": [
             [
              0,
              "#0d0887"
             ],
             [
              0.1111111111111111,
              "#46039f"
             ],
             [
              0.2222222222222222,
              "#7201a8"
             ],
             [
              0.3333333333333333,
              "#9c179e"
             ],
             [
              0.4444444444444444,
              "#bd3786"
             ],
             [
              0.5555555555555556,
              "#d8576b"
             ],
             [
              0.6666666666666666,
              "#ed7953"
             ],
             [
              0.7777777777777778,
              "#fb9f3a"
             ],
             [
              0.8888888888888888,
              "#fdca26"
             ],
             [
              1,
              "#f0f921"
             ]
            ],
            "type": "histogram2d"
           }
          ],
          "histogram2dcontour": [
           {
            "colorbar": {
             "outlinewidth": 0,
             "ticks": ""
            },
            "colorscale": [
             [
              0,
              "#0d0887"
             ],
             [
              0.1111111111111111,
              "#46039f"
             ],
             [
              0.2222222222222222,
              "#7201a8"
             ],
             [
              0.3333333333333333,
              "#9c179e"
             ],
             [
              0.4444444444444444,
              "#bd3786"
             ],
             [
              0.5555555555555556,
              "#d8576b"
             ],
             [
              0.6666666666666666,
              "#ed7953"
             ],
             [
              0.7777777777777778,
              "#fb9f3a"
             ],
             [
              0.8888888888888888,
              "#fdca26"
             ],
             [
              1,
              "#f0f921"
             ]
            ],
            "type": "histogram2dcontour"
           }
          ],
          "mesh3d": [
           {
            "colorbar": {
             "outlinewidth": 0,
             "ticks": ""
            },
            "type": "mesh3d"
           }
          ],
          "parcoords": [
           {
            "line": {
             "colorbar": {
              "outlinewidth": 0,
              "ticks": ""
             }
            },
            "type": "parcoords"
           }
          ],
          "pie": [
           {
            "automargin": true,
            "type": "pie"
           }
          ],
          "scatter": [
           {
            "marker": {
             "colorbar": {
              "outlinewidth": 0,
              "ticks": ""
             }
            },
            "type": "scatter"
           }
          ],
          "scatter3d": [
           {
            "line": {
             "colorbar": {
              "outlinewidth": 0,
              "ticks": ""
             }
            },
            "marker": {
             "colorbar": {
              "outlinewidth": 0,
              "ticks": ""
             }
            },
            "type": "scatter3d"
           }
          ],
          "scattercarpet": [
           {
            "marker": {
             "colorbar": {
              "outlinewidth": 0,
              "ticks": ""
             }
            },
            "type": "scattercarpet"
           }
          ],
          "scattergeo": [
           {
            "marker": {
             "colorbar": {
              "outlinewidth": 0,
              "ticks": ""
             }
            },
            "type": "scattergeo"
           }
          ],
          "scattergl": [
           {
            "marker": {
             "colorbar": {
              "outlinewidth": 0,
              "ticks": ""
             }
            },
            "type": "scattergl"
           }
          ],
          "scattermapbox": [
           {
            "marker": {
             "colorbar": {
              "outlinewidth": 0,
              "ticks": ""
             }
            },
            "type": "scattermapbox"
           }
          ],
          "scatterpolar": [
           {
            "marker": {
             "colorbar": {
              "outlinewidth": 0,
              "ticks": ""
             }
            },
            "type": "scatterpolar"
           }
          ],
          "scatterpolargl": [
           {
            "marker": {
             "colorbar": {
              "outlinewidth": 0,
              "ticks": ""
             }
            },
            "type": "scatterpolargl"
           }
          ],
          "scatterternary": [
           {
            "marker": {
             "colorbar": {
              "outlinewidth": 0,
              "ticks": ""
             }
            },
            "type": "scatterternary"
           }
          ],
          "surface": [
           {
            "colorbar": {
             "outlinewidth": 0,
             "ticks": ""
            },
            "colorscale": [
             [
              0,
              "#0d0887"
             ],
             [
              0.1111111111111111,
              "#46039f"
             ],
             [
              0.2222222222222222,
              "#7201a8"
             ],
             [
              0.3333333333333333,
              "#9c179e"
             ],
             [
              0.4444444444444444,
              "#bd3786"
             ],
             [
              0.5555555555555556,
              "#d8576b"
             ],
             [
              0.6666666666666666,
              "#ed7953"
             ],
             [
              0.7777777777777778,
              "#fb9f3a"
             ],
             [
              0.8888888888888888,
              "#fdca26"
             ],
             [
              1,
              "#f0f921"
             ]
            ],
            "type": "surface"
           }
          ],
          "table": [
           {
            "cells": {
             "fill": {
              "color": "#EBF0F8"
             },
             "line": {
              "color": "white"
             }
            },
            "header": {
             "fill": {
              "color": "#C8D4E3"
             },
             "line": {
              "color": "white"
             }
            },
            "type": "table"
           }
          ]
         },
         "layout": {
          "annotationdefaults": {
           "arrowcolor": "#2a3f5f",
           "arrowhead": 0,
           "arrowwidth": 1
          },
          "autotypenumbers": "strict",
          "coloraxis": {
           "colorbar": {
            "outlinewidth": 0,
            "ticks": ""
           }
          },
          "colorscale": {
           "diverging": [
            [
             0,
             "#8e0152"
            ],
            [
             0.1,
             "#c51b7d"
            ],
            [
             0.2,
             "#de77ae"
            ],
            [
             0.3,
             "#f1b6da"
            ],
            [
             0.4,
             "#fde0ef"
            ],
            [
             0.5,
             "#f7f7f7"
            ],
            [
             0.6,
             "#e6f5d0"
            ],
            [
             0.7,
             "#b8e186"
            ],
            [
             0.8,
             "#7fbc41"
            ],
            [
             0.9,
             "#4d9221"
            ],
            [
             1,
             "#276419"
            ]
           ],
           "sequential": [
            [
             0,
             "#0d0887"
            ],
            [
             0.1111111111111111,
             "#46039f"
            ],
            [
             0.2222222222222222,
             "#7201a8"
            ],
            [
             0.3333333333333333,
             "#9c179e"
            ],
            [
             0.4444444444444444,
             "#bd3786"
            ],
            [
             0.5555555555555556,
             "#d8576b"
            ],
            [
             0.6666666666666666,
             "#ed7953"
            ],
            [
             0.7777777777777778,
             "#fb9f3a"
            ],
            [
             0.8888888888888888,
             "#fdca26"
            ],
            [
             1,
             "#f0f921"
            ]
           ],
           "sequentialminus": [
            [
             0,
             "#0d0887"
            ],
            [
             0.1111111111111111,
             "#46039f"
            ],
            [
             0.2222222222222222,
             "#7201a8"
            ],
            [
             0.3333333333333333,
             "#9c179e"
            ],
            [
             0.4444444444444444,
             "#bd3786"
            ],
            [
             0.5555555555555556,
             "#d8576b"
            ],
            [
             0.6666666666666666,
             "#ed7953"
            ],
            [
             0.7777777777777778,
             "#fb9f3a"
            ],
            [
             0.8888888888888888,
             "#fdca26"
            ],
            [
             1,
             "#f0f921"
            ]
           ]
          },
          "colorway": [
           "#636efa",
           "#EF553B",
           "#00cc96",
           "#ab63fa",
           "#FFA15A",
           "#19d3f3",
           "#FF6692",
           "#B6E880",
           "#FF97FF",
           "#FECB52"
          ],
          "font": {
           "color": "#2a3f5f"
          },
          "geo": {
           "bgcolor": "white",
           "lakecolor": "white",
           "landcolor": "#E5ECF6",
           "showlakes": true,
           "showland": true,
           "subunitcolor": "white"
          },
          "hoverlabel": {
           "align": "left"
          },
          "hovermode": "closest",
          "mapbox": {
           "style": "light"
          },
          "paper_bgcolor": "white",
          "plot_bgcolor": "#E5ECF6",
          "polar": {
           "angularaxis": {
            "gridcolor": "white",
            "linecolor": "white",
            "ticks": ""
           },
           "bgcolor": "#E5ECF6",
           "radialaxis": {
            "gridcolor": "white",
            "linecolor": "white",
            "ticks": ""
           }
          },
          "scene": {
           "xaxis": {
            "backgroundcolor": "#E5ECF6",
            "gridcolor": "white",
            "gridwidth": 2,
            "linecolor": "white",
            "showbackground": true,
            "ticks": "",
            "zerolinecolor": "white"
           },
           "yaxis": {
            "backgroundcolor": "#E5ECF6",
            "gridcolor": "white",
            "gridwidth": 2,
            "linecolor": "white",
            "showbackground": true,
            "ticks": "",
            "zerolinecolor": "white"
           },
           "zaxis": {
            "backgroundcolor": "#E5ECF6",
            "gridcolor": "white",
            "gridwidth": 2,
            "linecolor": "white",
            "showbackground": true,
            "ticks": "",
            "zerolinecolor": "white"
           }
          },
          "shapedefaults": {
           "line": {
            "color": "#2a3f5f"
           }
          },
          "ternary": {
           "aaxis": {
            "gridcolor": "white",
            "linecolor": "white",
            "ticks": ""
           },
           "baxis": {
            "gridcolor": "white",
            "linecolor": "white",
            "ticks": ""
           },
           "bgcolor": "#E5ECF6",
           "caxis": {
            "gridcolor": "white",
            "linecolor": "white",
            "ticks": ""
           }
          },
          "title": {
           "x": 0.05
          },
          "xaxis": {
           "automargin": true,
           "gridcolor": "white",
           "linecolor": "white",
           "ticks": "",
           "title": {
            "standoff": 15
           },
           "zerolinecolor": "white",
           "zerolinewidth": 2
          },
          "yaxis": {
           "automargin": true,
           "gridcolor": "white",
           "linecolor": "white",
           "ticks": "",
           "title": {
            "standoff": 15
           },
           "zerolinecolor": "white",
           "zerolinewidth": 2
          }
         }
        }
       }
      }
     },
     "metadata": {}
    }
   ],
   "metadata": {}
  },
  {
   "cell_type": "markdown",
   "source": [
    "# Results\n",
    "The green mesh is the true Pareto front, the blue dots are the solutions that Interactive K-RVEA has found, and the red dot is the reference point."
   ],
   "metadata": {}
  },
  {
   "cell_type": "markdown",
   "source": [],
   "metadata": {}
  }
 ],
 "metadata": {
  "orig_nbformat": 4,
  "language_info": {
   "name": "python",
   "version": "3.7.11",
   "mimetype": "text/x-python",
   "codemirror_mode": {
    "name": "ipython",
    "version": 3
   },
   "pygments_lexer": "ipython3",
   "nbconvert_exporter": "python",
   "file_extension": ".py"
  },
  "kernelspec": {
   "name": "python3",
   "display_name": "Python 3.7.11 64-bit ('interactive_KRVEA': venv)"
  },
  "interpreter": {
   "hash": "0b97efaf3cca003e919706c0c9e5660e551c9f562cf8686d15dadb14e0762d79"
  }
 },
 "nbformat": 4,
 "nbformat_minor": 2
}